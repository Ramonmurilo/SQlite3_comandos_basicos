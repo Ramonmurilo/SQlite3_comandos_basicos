{
 "cells": [
  {
   "cell_type": "markdown",
   "id": "social-wrapping",
   "metadata": {},
   "source": [
    "# Comandos básicos do SQlite3\n",
    "    link de post com tutorial <https://likegeeks.com/python-sqlite3-tutorial/>"
   ]
  },
  {
   "cell_type": "code",
   "execution_count": 1,
   "id": "geological-paris",
   "metadata": {},
   "outputs": [],
   "source": [
    "import sqlite3\n",
    "import pandas as pd"
   ]
  },
  {
   "cell_type": "code",
   "execution_count": 2,
   "id": "naval-stranger",
   "metadata": {},
   "outputs": [],
   "source": [
    "#Cria conexão \n",
    "conexao=sqlite3.connect('teste.db')\n",
    "\n",
    "#cria objeto cursor\n",
    "c=conexao.cursor()"
   ]
  },
  {
   "cell_type": "code",
   "execution_count": null,
   "id": "elegant-winning",
   "metadata": {},
   "outputs": [],
   "source": [
    "#criando tabela exemplo\n",
    "c.execute('''\n",
    "    CREATE TABLE exemplo (\n",
    "    time date_time ,\n",
    "    id INTEGER ,\n",
    "    link TEXT NOT NULL,\n",
    "    product_title TEXT NOT NULL,\n",
    "    product_price DOUBLE NOT NULL,\n",
    "    category TEXT NOT NULL,\n",
    "    PRIMARY KEY (time, id)\n",
    "    );\n",
    "    ''')\n",
    "\n",
    "#criando tabela stocks\n",
    "c.execute('''CREATE TABLE stocks\n",
    "             (date text, trans text, symbol text, qty real, price real)''')"
   ]
  },
  {
   "cell_type": "code",
   "execution_count": 16,
   "id": "fewer-kingdom",
   "metadata": {},
   "outputs": [
    {
     "data": {
      "text/plain": [
       "<sqlite3.Cursor at 0x581d20>"
      ]
     },
     "execution_count": 16,
     "metadata": {},
     "output_type": "execute_result"
    }
   ],
   "source": [
    "# Inserindo linha de dados na tabela stocks\n",
    "c.execute(\"INSERT INTO stocks VALUES ('2006-01-05','BUY','RHAT',100,35.14)\")"
   ]
  },
  {
   "cell_type": "code",
   "execution_count": 19,
   "id": "canadian-affair",
   "metadata": {},
   "outputs": [],
   "source": [
    "# Save (commit) the changes - necessário?\n",
    "conexao.commit()"
   ]
  },
  {
   "cell_type": "code",
   "execution_count": 32,
   "id": "voluntary-asset",
   "metadata": {},
   "outputs": [
    {
     "data": {
      "text/plain": [
       "<sqlite3.Cursor at 0x66435a0>"
      ]
     },
     "execution_count": 32,
     "metadata": {},
     "output_type": "execute_result"
    }
   ],
   "source": [
    "#exibe todas as tabelas do banco de dados\n",
    "c.execute('SELECT name from sqlite_master where type= \"table\"')\n",
    "c.fetchall()"
   ]
  },
  {
   "cell_type": "code",
   "execution_count": 23,
   "id": "negative-irrigation",
   "metadata": {},
   "outputs": [
    {
     "data": {
      "text/plain": [
       "[('2006-01-05', 'BUY', 'RHAT', 100.0, 35.14)]"
      ]
     },
     "execution_count": 23,
     "metadata": {},
     "output_type": "execute_result"
    }
   ],
   "source": [
    "# Exibe todos os registros da tabela stocks\n",
    "# MÉTODO 1 - usando sqlite3\n",
    "c.execute('SELECT * FROM stocks')\n",
    "c.fetchall()\n",
    "\n",
    "# MÉTODO 2 - USANDO PANDAS: CARREGA A TABELA EM UM DATAFRAME\n",
    "df = pd.read_sql(\"select * from stocks\", conexao)\n",
    "df"
   ]
  }
 ],
 "metadata": {
  "kernelspec": {
   "display_name": "Python 3",
   "language": "python",
   "name": "python3"
  },
  "language_info": {
   "codemirror_mode": {
    "name": "ipython",
    "version": 3
   },
   "file_extension": ".py",
   "mimetype": "text/x-python",
   "name": "python",
   "nbconvert_exporter": "python",
   "pygments_lexer": "ipython3",
   "version": "3.7.9"
  }
 },
 "nbformat": 4,
 "nbformat_minor": 5
}
